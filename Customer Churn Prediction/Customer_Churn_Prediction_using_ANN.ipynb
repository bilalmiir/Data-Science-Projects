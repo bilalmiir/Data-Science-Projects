{
  "metadata": {
    "kernelspec": {
      "language": "python",
      "display_name": "Python 3",
      "name": "python3"
    },
    "language_info": {
      "name": "python",
      "version": "3.10.12",
      "mimetype": "text/x-python",
      "codemirror_mode": {
        "name": "ipython",
        "version": 3
      },
      "pygments_lexer": "ipython3",
      "nbconvert_exporter": "python",
      "file_extension": ".py"
    },
    "kaggle": {
      "accelerator": "none",
      "dataSources": [
        {
          "sourceId": 1481789,
          "sourceType": "datasetVersion",
          "datasetId": 869651
        }
      ],
      "dockerImageVersionId": 30918,
      "isInternetEnabled": false,
      "language": "python",
      "sourceType": "notebook",
      "isGpuEnabled": false
    },
    "colab": {
      "name": "Customer Churn Prediction using ANN",
      "provenance": []
    }
  },
  "nbformat_minor": 0,
  "nbformat": 4,
  "cells": [
    {
      "cell_type": "code",
      "source": [
        "# This Python 3 environment comes with many helpful analytics libraries installed\n",
        "# It is defined by the kaggle/python Docker image: https://github.com/kaggle/docker-python\n",
        "# For example, here's several helpful packages to load\n",
        "\n",
        "import numpy as np # linear algebra\n",
        "import pandas as pd # data processing, CSV file I/O (e.g. pd.read_csv)\n",
        "\n",
        "# Input data files are available in the read-only \"../input/\" directory\n",
        "# For example, running this (by clicking run or pressing Shift+Enter) will list all files under the input directory\n",
        "\n",
        "import os\n",
        "for dirname, _, filenames in os.walk('/kaggle/input'):\n",
        "    for filename in filenames:\n",
        "        print(os.path.join(dirname, filename))\n",
        "\n",
        "# You can write up to 20GB to the current directory (/kaggle/working/) that gets preserved as output when you create a version using \"Save & Run All\"\n",
        "# You can also write temporary files to /kaggle/temp/, but they won't be saved outside of the current session"
      ],
      "metadata": {
        "_uuid": "8f2839f25d086af736a60e9eeb907d3b93b6e0e5",
        "_cell_guid": "b1076dfc-b9ad-4769-8c92-a6c4dae69d19",
        "trusted": true,
        "execution": {
          "iopub.status.busy": "2025-04-03T18:43:47.324487Z",
          "iopub.execute_input": "2025-04-03T18:43:47.324881Z",
          "iopub.status.idle": "2025-04-03T18:43:48.079852Z",
          "shell.execute_reply.started": "2025-04-03T18:43:47.324851Z",
          "shell.execute_reply": "2025-04-03T18:43:48.078556Z"
        },
        "id": "dFgXV89j-5lW",
        "outputId": "9c428a5e-0917-4fd9-adf1-9d587717b266"
      },
      "outputs": [
        {
          "name": "stdout",
          "text": "/kaggle/input/credit-card-customer-churn-prediction/Churn_Modelling.csv\n",
          "output_type": "stream"
        }
      ],
      "execution_count": null
    },
    {
      "cell_type": "code",
      "source": [
        "df = pd.read_csv('/kaggle/input/credit-card-customer-churn-prediction/Churn_Modelling.csv')"
      ],
      "metadata": {
        "trusted": true,
        "execution": {
          "iopub.status.busy": "2025-03-29T12:57:17.451605Z",
          "iopub.execute_input": "2025-03-29T12:57:17.452094Z",
          "iopub.status.idle": "2025-03-29T12:57:17.499838Z",
          "shell.execute_reply.started": "2025-03-29T12:57:17.452056Z",
          "shell.execute_reply": "2025-03-29T12:57:17.498742Z"
        },
        "id": "F87wU5-w-5lY"
      },
      "outputs": [],
      "execution_count": null
    },
    {
      "cell_type": "code",
      "source": [
        "df.shape"
      ],
      "metadata": {
        "trusted": true,
        "execution": {
          "iopub.status.busy": "2025-03-29T12:57:18.196823Z",
          "iopub.execute_input": "2025-03-29T12:57:18.197242Z",
          "iopub.status.idle": "2025-03-29T12:57:18.205105Z",
          "shell.execute_reply.started": "2025-03-29T12:57:18.197214Z",
          "shell.execute_reply": "2025-03-29T12:57:18.203828Z"
        },
        "id": "PQLQWHfH-5lZ",
        "outputId": "0201d104-d55d-41fc-c6d8-079a7610cc4b"
      },
      "outputs": [
        {
          "execution_count": 3,
          "output_type": "execute_result",
          "data": {
            "text/plain": "(10000, 14)"
          },
          "metadata": {}
        }
      ],
      "execution_count": null
    },
    {
      "cell_type": "code",
      "source": [
        "df.head()"
      ],
      "metadata": {
        "trusted": true,
        "execution": {
          "iopub.status.busy": "2025-03-29T12:57:21.956452Z",
          "iopub.execute_input": "2025-03-29T12:57:21.956926Z",
          "iopub.status.idle": "2025-03-29T12:57:22.000781Z",
          "shell.execute_reply.started": "2025-03-29T12:57:21.956885Z",
          "shell.execute_reply": "2025-03-29T12:57:21.999462Z"
        },
        "id": "kpcFNLso-5lb",
        "outputId": "bd083ac4-e35e-46ec-b81f-0b74221a4036"
      },
      "outputs": [
        {
          "execution_count": 4,
          "output_type": "execute_result",
          "data": {
            "text/plain": "   RowNumber  CustomerId   Surname  CreditScore Geography  Gender  Age  \\\n0          1    15634602  Hargrave          619    France  Female   42   \n1          2    15647311      Hill          608     Spain  Female   41   \n2          3    15619304      Onio          502    France  Female   42   \n3          4    15701354      Boni          699    France  Female   39   \n4          5    15737888  Mitchell          850     Spain  Female   43   \n\n   Tenure    Balance  NumOfProducts  HasCrCard  IsActiveMember  \\\n0       2       0.00              1          1               1   \n1       1   83807.86              1          0               1   \n2       8  159660.80              3          1               0   \n3       1       0.00              2          0               0   \n4       2  125510.82              1          1               1   \n\n   EstimatedSalary  Exited  \n0        101348.88       1  \n1        112542.58       0  \n2        113931.57       1  \n3         93826.63       0  \n4         79084.10       0  ",
            "text/html": "<div>\n<style scoped>\n    .dataframe tbody tr th:only-of-type {\n        vertical-align: middle;\n    }\n\n    .dataframe tbody tr th {\n        vertical-align: top;\n    }\n\n    .dataframe thead th {\n        text-align: right;\n    }\n</style>\n<table border=\"1\" class=\"dataframe\">\n  <thead>\n    <tr style=\"text-align: right;\">\n      <th></th>\n      <th>RowNumber</th>\n      <th>CustomerId</th>\n      <th>Surname</th>\n      <th>CreditScore</th>\n      <th>Geography</th>\n      <th>Gender</th>\n      <th>Age</th>\n      <th>Tenure</th>\n      <th>Balance</th>\n      <th>NumOfProducts</th>\n      <th>HasCrCard</th>\n      <th>IsActiveMember</th>\n      <th>EstimatedSalary</th>\n      <th>Exited</th>\n    </tr>\n  </thead>\n  <tbody>\n    <tr>\n      <th>0</th>\n      <td>1</td>\n      <td>15634602</td>\n      <td>Hargrave</td>\n      <td>619</td>\n      <td>France</td>\n      <td>Female</td>\n      <td>42</td>\n      <td>2</td>\n      <td>0.00</td>\n      <td>1</td>\n      <td>1</td>\n      <td>1</td>\n      <td>101348.88</td>\n      <td>1</td>\n    </tr>\n    <tr>\n      <th>1</th>\n      <td>2</td>\n      <td>15647311</td>\n      <td>Hill</td>\n      <td>608</td>\n      <td>Spain</td>\n      <td>Female</td>\n      <td>41</td>\n      <td>1</td>\n      <td>83807.86</td>\n      <td>1</td>\n      <td>0</td>\n      <td>1</td>\n      <td>112542.58</td>\n      <td>0</td>\n    </tr>\n    <tr>\n      <th>2</th>\n      <td>3</td>\n      <td>15619304</td>\n      <td>Onio</td>\n      <td>502</td>\n      <td>France</td>\n      <td>Female</td>\n      <td>42</td>\n      <td>8</td>\n      <td>159660.80</td>\n      <td>3</td>\n      <td>1</td>\n      <td>0</td>\n      <td>113931.57</td>\n      <td>1</td>\n    </tr>\n    <tr>\n      <th>3</th>\n      <td>4</td>\n      <td>15701354</td>\n      <td>Boni</td>\n      <td>699</td>\n      <td>France</td>\n      <td>Female</td>\n      <td>39</td>\n      <td>1</td>\n      <td>0.00</td>\n      <td>2</td>\n      <td>0</td>\n      <td>0</td>\n      <td>93826.63</td>\n      <td>0</td>\n    </tr>\n    <tr>\n      <th>4</th>\n      <td>5</td>\n      <td>15737888</td>\n      <td>Mitchell</td>\n      <td>850</td>\n      <td>Spain</td>\n      <td>Female</td>\n      <td>43</td>\n      <td>2</td>\n      <td>125510.82</td>\n      <td>1</td>\n      <td>1</td>\n      <td>1</td>\n      <td>79084.10</td>\n      <td>0</td>\n    </tr>\n  </tbody>\n</table>\n</div>"
          },
          "metadata": {}
        }
      ],
      "execution_count": null
    },
    {
      "cell_type": "code",
      "source": [
        "df.info()"
      ],
      "metadata": {
        "trusted": true,
        "execution": {
          "iopub.status.busy": "2025-03-29T12:57:22.7028Z",
          "iopub.execute_input": "2025-03-29T12:57:22.703235Z",
          "iopub.status.idle": "2025-03-29T12:57:22.737587Z",
          "shell.execute_reply.started": "2025-03-29T12:57:22.703204Z",
          "shell.execute_reply": "2025-03-29T12:57:22.736555Z"
        },
        "id": "Ey1iOWOM-5lc",
        "outputId": "143b718f-034a-44f6-905e-8309ff5a2813"
      },
      "outputs": [
        {
          "name": "stdout",
          "text": "<class 'pandas.core.frame.DataFrame'>\nRangeIndex: 10000 entries, 0 to 9999\nData columns (total 14 columns):\n #   Column           Non-Null Count  Dtype  \n---  ------           --------------  -----  \n 0   RowNumber        10000 non-null  int64  \n 1   CustomerId       10000 non-null  int64  \n 2   Surname          10000 non-null  object \n 3   CreditScore      10000 non-null  int64  \n 4   Geography        10000 non-null  object \n 5   Gender           10000 non-null  object \n 6   Age              10000 non-null  int64  \n 7   Tenure           10000 non-null  int64  \n 8   Balance          10000 non-null  float64\n 9   NumOfProducts    10000 non-null  int64  \n 10  HasCrCard        10000 non-null  int64  \n 11  IsActiveMember   10000 non-null  int64  \n 12  EstimatedSalary  10000 non-null  float64\n 13  Exited           10000 non-null  int64  \ndtypes: float64(2), int64(9), object(3)\nmemory usage: 1.1+ MB\n",
          "output_type": "stream"
        }
      ],
      "execution_count": null
    },
    {
      "cell_type": "code",
      "source": [
        "df.duplicated().sum()"
      ],
      "metadata": {
        "trusted": true,
        "execution": {
          "iopub.status.busy": "2025-03-29T12:57:25.283337Z",
          "iopub.execute_input": "2025-03-29T12:57:25.283696Z",
          "iopub.status.idle": "2025-03-29T12:57:25.297553Z",
          "shell.execute_reply.started": "2025-03-29T12:57:25.283671Z",
          "shell.execute_reply": "2025-03-29T12:57:25.296433Z"
        },
        "id": "sO89zK60-5ld",
        "outputId": "ef602f99-5ce9-49bd-f511-26afae0417f3"
      },
      "outputs": [
        {
          "execution_count": 6,
          "output_type": "execute_result",
          "data": {
            "text/plain": "0"
          },
          "metadata": {}
        }
      ],
      "execution_count": null
    },
    {
      "cell_type": "code",
      "source": [
        "df['Exited'].value_counts()"
      ],
      "metadata": {
        "trusted": true,
        "execution": {
          "iopub.status.busy": "2025-03-29T12:57:27.272294Z",
          "iopub.execute_input": "2025-03-29T12:57:27.272652Z",
          "iopub.status.idle": "2025-03-29T12:57:27.281799Z",
          "shell.execute_reply.started": "2025-03-29T12:57:27.272625Z",
          "shell.execute_reply": "2025-03-29T12:57:27.280674Z"
        },
        "id": "3UAEtGGx-5le",
        "outputId": "f941f1bc-0c52-44cb-ce3d-0f7a19330307"
      },
      "outputs": [
        {
          "execution_count": 7,
          "output_type": "execute_result",
          "data": {
            "text/plain": "Exited\n0    7963\n1    2037\nName: count, dtype: int64"
          },
          "metadata": {}
        }
      ],
      "execution_count": null
    },
    {
      "cell_type": "code",
      "source": [
        "df['Geography'].value_counts()"
      ],
      "metadata": {
        "trusted": true,
        "execution": {
          "iopub.status.busy": "2025-03-29T12:57:28.192436Z",
          "iopub.execute_input": "2025-03-29T12:57:28.192768Z",
          "iopub.status.idle": "2025-03-29T12:57:28.202565Z",
          "shell.execute_reply.started": "2025-03-29T12:57:28.192743Z",
          "shell.execute_reply": "2025-03-29T12:57:28.201291Z"
        },
        "id": "9poddkqn-5lf",
        "outputId": "ddb77a2e-78ed-4c2b-9cae-1449ecda2895"
      },
      "outputs": [
        {
          "execution_count": 8,
          "output_type": "execute_result",
          "data": {
            "text/plain": "Geography\nFrance     5014\nGermany    2509\nSpain      2477\nName: count, dtype: int64"
          },
          "metadata": {}
        }
      ],
      "execution_count": null
    },
    {
      "cell_type": "code",
      "source": [
        "df['Gender'].value_counts()"
      ],
      "metadata": {
        "trusted": true,
        "execution": {
          "iopub.status.busy": "2025-03-29T12:57:28.875978Z",
          "iopub.execute_input": "2025-03-29T12:57:28.876411Z",
          "iopub.status.idle": "2025-03-29T12:57:28.884945Z",
          "shell.execute_reply.started": "2025-03-29T12:57:28.876382Z",
          "shell.execute_reply": "2025-03-29T12:57:28.883739Z"
        },
        "id": "UNCwA4nm-5lg",
        "outputId": "61d50de1-48d1-4b73-9126-7b1afd00aa55"
      },
      "outputs": [
        {
          "execution_count": 9,
          "output_type": "execute_result",
          "data": {
            "text/plain": "Gender\nMale      5457\nFemale    4543\nName: count, dtype: int64"
          },
          "metadata": {}
        }
      ],
      "execution_count": null
    },
    {
      "cell_type": "code",
      "source": [
        "df.drop(columns= ['RowNumber', 'CustomerId' , 'Surname'], inplace= True)"
      ],
      "metadata": {
        "trusted": true,
        "execution": {
          "iopub.status.busy": "2025-03-29T12:57:31.147071Z",
          "iopub.execute_input": "2025-03-29T12:57:31.147599Z",
          "iopub.status.idle": "2025-03-29T12:57:31.157776Z",
          "shell.execute_reply.started": "2025-03-29T12:57:31.147567Z",
          "shell.execute_reply": "2025-03-29T12:57:31.156561Z"
        },
        "id": "iITQJoQU-5lh"
      },
      "outputs": [],
      "execution_count": null
    },
    {
      "cell_type": "code",
      "source": [
        "df.head()"
      ],
      "metadata": {
        "trusted": true,
        "execution": {
          "iopub.status.busy": "2025-03-29T12:57:31.990815Z",
          "iopub.execute_input": "2025-03-29T12:57:31.991192Z",
          "iopub.status.idle": "2025-03-29T12:57:32.00596Z",
          "shell.execute_reply.started": "2025-03-29T12:57:31.991166Z",
          "shell.execute_reply": "2025-03-29T12:57:32.004903Z"
        },
        "id": "n6dIpDLI-5lh",
        "outputId": "546e18a7-cbf1-4227-8259-2c1f6d01a2aa"
      },
      "outputs": [
        {
          "execution_count": 11,
          "output_type": "execute_result",
          "data": {
            "text/plain": "   CreditScore Geography  Gender  Age  Tenure    Balance  NumOfProducts  \\\n0          619    France  Female   42       2       0.00              1   \n1          608     Spain  Female   41       1   83807.86              1   \n2          502    France  Female   42       8  159660.80              3   \n3          699    France  Female   39       1       0.00              2   \n4          850     Spain  Female   43       2  125510.82              1   \n\n   HasCrCard  IsActiveMember  EstimatedSalary  Exited  \n0          1               1        101348.88       1  \n1          0               1        112542.58       0  \n2          1               0        113931.57       1  \n3          0               0         93826.63       0  \n4          1               1         79084.10       0  ",
            "text/html": "<div>\n<style scoped>\n    .dataframe tbody tr th:only-of-type {\n        vertical-align: middle;\n    }\n\n    .dataframe tbody tr th {\n        vertical-align: top;\n    }\n\n    .dataframe thead th {\n        text-align: right;\n    }\n</style>\n<table border=\"1\" class=\"dataframe\">\n  <thead>\n    <tr style=\"text-align: right;\">\n      <th></th>\n      <th>CreditScore</th>\n      <th>Geography</th>\n      <th>Gender</th>\n      <th>Age</th>\n      <th>Tenure</th>\n      <th>Balance</th>\n      <th>NumOfProducts</th>\n      <th>HasCrCard</th>\n      <th>IsActiveMember</th>\n      <th>EstimatedSalary</th>\n      <th>Exited</th>\n    </tr>\n  </thead>\n  <tbody>\n    <tr>\n      <th>0</th>\n      <td>619</td>\n      <td>France</td>\n      <td>Female</td>\n      <td>42</td>\n      <td>2</td>\n      <td>0.00</td>\n      <td>1</td>\n      <td>1</td>\n      <td>1</td>\n      <td>101348.88</td>\n      <td>1</td>\n    </tr>\n    <tr>\n      <th>1</th>\n      <td>608</td>\n      <td>Spain</td>\n      <td>Female</td>\n      <td>41</td>\n      <td>1</td>\n      <td>83807.86</td>\n      <td>1</td>\n      <td>0</td>\n      <td>1</td>\n      <td>112542.58</td>\n      <td>0</td>\n    </tr>\n    <tr>\n      <th>2</th>\n      <td>502</td>\n      <td>France</td>\n      <td>Female</td>\n      <td>42</td>\n      <td>8</td>\n      <td>159660.80</td>\n      <td>3</td>\n      <td>1</td>\n      <td>0</td>\n      <td>113931.57</td>\n      <td>1</td>\n    </tr>\n    <tr>\n      <th>3</th>\n      <td>699</td>\n      <td>France</td>\n      <td>Female</td>\n      <td>39</td>\n      <td>1</td>\n      <td>0.00</td>\n      <td>2</td>\n      <td>0</td>\n      <td>0</td>\n      <td>93826.63</td>\n      <td>0</td>\n    </tr>\n    <tr>\n      <th>4</th>\n      <td>850</td>\n      <td>Spain</td>\n      <td>Female</td>\n      <td>43</td>\n      <td>2</td>\n      <td>125510.82</td>\n      <td>1</td>\n      <td>1</td>\n      <td>1</td>\n      <td>79084.10</td>\n      <td>0</td>\n    </tr>\n  </tbody>\n</table>\n</div>"
          },
          "metadata": {}
        }
      ],
      "execution_count": null
    },
    {
      "cell_type": "code",
      "source": [
        "df = pd.get_dummies(df, columns= ['Geography', 'Gender'], drop_first= True)"
      ],
      "metadata": {
        "trusted": true,
        "execution": {
          "iopub.status.busy": "2025-03-29T12:57:33.812781Z",
          "iopub.execute_input": "2025-03-29T12:57:33.813242Z",
          "iopub.status.idle": "2025-03-29T12:57:33.826008Z",
          "shell.execute_reply.started": "2025-03-29T12:57:33.813212Z",
          "shell.execute_reply": "2025-03-29T12:57:33.824988Z"
        },
        "id": "pF7gr7S2-5li"
      },
      "outputs": [],
      "execution_count": null
    },
    {
      "cell_type": "code",
      "source": [
        "X = df.drop(columns= ['Exited'])\n",
        "y = df['Exited']"
      ],
      "metadata": {
        "trusted": true,
        "execution": {
          "iopub.status.busy": "2025-03-29T12:57:34.070679Z",
          "iopub.execute_input": "2025-03-29T12:57:34.071034Z",
          "iopub.status.idle": "2025-03-29T12:57:34.077523Z",
          "shell.execute_reply.started": "2025-03-29T12:57:34.071008Z",
          "shell.execute_reply": "2025-03-29T12:57:34.076306Z"
        },
        "id": "EVSRlsQ7-5lj"
      },
      "outputs": [],
      "execution_count": null
    },
    {
      "cell_type": "code",
      "source": [
        "from sklearn.model_selection import train_test_split\n",
        "\n",
        "X_train, X_test, y_train, y_test = train_test_split(X, y, test_size= 0.2, random_state= 1)"
      ],
      "metadata": {
        "trusted": true,
        "execution": {
          "iopub.status.busy": "2025-03-29T12:57:35.859591Z",
          "iopub.execute_input": "2025-03-29T12:57:35.859971Z",
          "iopub.status.idle": "2025-03-29T12:57:36.584878Z",
          "shell.execute_reply.started": "2025-03-29T12:57:35.859943Z",
          "shell.execute_reply": "2025-03-29T12:57:36.58372Z"
        },
        "id": "a2Ut0PuK-5lj"
      },
      "outputs": [],
      "execution_count": null
    },
    {
      "cell_type": "code",
      "source": [
        "from sklearn.preprocessing import StandardScaler\n",
        "\n",
        "scaler = StandardScaler()\n",
        "\n",
        "X_train_scaled = scaler.fit_transform(X_train)\n",
        "X_test_scaled = scaler.transform(X_test)"
      ],
      "metadata": {
        "trusted": true,
        "execution": {
          "iopub.status.busy": "2025-03-29T12:57:36.586293Z",
          "iopub.execute_input": "2025-03-29T12:57:36.586709Z",
          "iopub.status.idle": "2025-03-29T12:57:36.624521Z",
          "shell.execute_reply.started": "2025-03-29T12:57:36.586684Z",
          "shell.execute_reply": "2025-03-29T12:57:36.623483Z"
        },
        "id": "diM2RQ2t-5lk"
      },
      "outputs": [],
      "execution_count": null
    },
    {
      "cell_type": "code",
      "source": [
        "import tensorflow\n",
        "from tensorflow import keras\n",
        "from tensorflow.keras import Sequential\n",
        "from tensorflow.keras.layers import Dense, Input"
      ],
      "metadata": {
        "trusted": true,
        "execution": {
          "iopub.status.busy": "2025-03-29T12:57:39.074681Z",
          "iopub.execute_input": "2025-03-29T12:57:39.075099Z",
          "iopub.status.idle": "2025-03-29T12:57:57.227101Z",
          "shell.execute_reply.started": "2025-03-29T12:57:39.075069Z",
          "shell.execute_reply": "2025-03-29T12:57:57.225782Z"
        },
        "id": "TJ7mFk1o-5ll"
      },
      "outputs": [],
      "execution_count": null
    },
    {
      "cell_type": "code",
      "source": [
        "model = Sequential([\n",
        "    Input(shape= (11, )),\n",
        "    Dense(11, activation= 'relu'),\n",
        "    Dense(11, activation= 'relu'),\n",
        "    Dense(1, activation= 'sigmoid')\n",
        "])"
      ],
      "metadata": {
        "trusted": true,
        "execution": {
          "iopub.status.busy": "2025-03-29T13:05:47.697276Z",
          "iopub.execute_input": "2025-03-29T13:05:47.69764Z",
          "iopub.status.idle": "2025-03-29T13:05:47.729969Z",
          "shell.execute_reply.started": "2025-03-29T13:05:47.697615Z",
          "shell.execute_reply": "2025-03-29T13:05:47.728836Z"
        },
        "id": "kOeguQME-5ll"
      },
      "outputs": [],
      "execution_count": null
    },
    {
      "cell_type": "code",
      "source": [
        "model.summary()"
      ],
      "metadata": {
        "trusted": true,
        "execution": {
          "iopub.status.busy": "2025-03-29T13:05:49.284161Z",
          "iopub.execute_input": "2025-03-29T13:05:49.284532Z",
          "iopub.status.idle": "2025-03-29T13:05:49.303259Z",
          "shell.execute_reply.started": "2025-03-29T13:05:49.284506Z",
          "shell.execute_reply": "2025-03-29T13:05:49.301999Z"
        },
        "id": "Gqzxnt-l-5lm",
        "outputId": "7b372ae1-e9d1-452d-d584-09ba9fadcf83"
      },
      "outputs": [
        {
          "output_type": "display_data",
          "data": {
            "text/plain": "\u001b[1mModel: \"sequential_2\"\u001b[0m\n",
            "text/html": "<pre style=\"white-space:pre;overflow-x:auto;line-height:normal;font-family:Menlo,'DejaVu Sans Mono',consolas,'Courier New',monospace\"><span style=\"font-weight: bold\">Model: \"sequential_2\"</span>\n</pre>\n"
          },
          "metadata": {}
        },
        {
          "output_type": "display_data",
          "data": {
            "text/plain": "┏━━━━━━━━━━━━━━━━━━━━━━━━━━━━━━━━━━━━━━┳━━━━━━━━━━━━━━━━━━━━━━━━━━━━━┳━━━━━━━━━━━━━━━━━┓\n┃\u001b[1m \u001b[0m\u001b[1mLayer (type)                        \u001b[0m\u001b[1m \u001b[0m┃\u001b[1m \u001b[0m\u001b[1mOutput Shape               \u001b[0m\u001b[1m \u001b[0m┃\u001b[1m \u001b[0m\u001b[1m        Param #\u001b[0m\u001b[1m \u001b[0m┃\n┡━━━━━━━━━━━━━━━━━━━━━━━━━━━━━━━━━━━━━━╇━━━━━━━━━━━━━━━━━━━━━━━━━━━━━╇━━━━━━━━━━━━━━━━━┩\n│ dense_5 (\u001b[38;5;33mDense\u001b[0m)                      │ (\u001b[38;5;45mNone\u001b[0m, \u001b[38;5;34m11\u001b[0m)                  │             \u001b[38;5;34m132\u001b[0m │\n├──────────────────────────────────────┼─────────────────────────────┼─────────────────┤\n│ dense_6 (\u001b[38;5;33mDense\u001b[0m)                      │ (\u001b[38;5;45mNone\u001b[0m, \u001b[38;5;34m11\u001b[0m)                  │             \u001b[38;5;34m132\u001b[0m │\n├──────────────────────────────────────┼─────────────────────────────┼─────────────────┤\n│ dense_7 (\u001b[38;5;33mDense\u001b[0m)                      │ (\u001b[38;5;45mNone\u001b[0m, \u001b[38;5;34m1\u001b[0m)                   │              \u001b[38;5;34m12\u001b[0m │\n└──────────────────────────────────────┴─────────────────────────────┴─────────────────┘\n",
            "text/html": "<pre style=\"white-space:pre;overflow-x:auto;line-height:normal;font-family:Menlo,'DejaVu Sans Mono',consolas,'Courier New',monospace\">┏━━━━━━━━━━━━━━━━━━━━━━━━━━━━━━━━━━━━━━┳━━━━━━━━━━━━━━━━━━━━━━━━━━━━━┳━━━━━━━━━━━━━━━━━┓\n┃<span style=\"font-weight: bold\"> Layer (type)                         </span>┃<span style=\"font-weight: bold\"> Output Shape                </span>┃<span style=\"font-weight: bold\">         Param # </span>┃\n┡━━━━━━━━━━━━━━━━━━━━━━━━━━━━━━━━━━━━━━╇━━━━━━━━━━━━━━━━━━━━━━━━━━━━━╇━━━━━━━━━━━━━━━━━┩\n│ dense_5 (<span style=\"color: #0087ff; text-decoration-color: #0087ff\">Dense</span>)                      │ (<span style=\"color: #00d7ff; text-decoration-color: #00d7ff\">None</span>, <span style=\"color: #00af00; text-decoration-color: #00af00\">11</span>)                  │             <span style=\"color: #00af00; text-decoration-color: #00af00\">132</span> │\n├──────────────────────────────────────┼─────────────────────────────┼─────────────────┤\n│ dense_6 (<span style=\"color: #0087ff; text-decoration-color: #0087ff\">Dense</span>)                      │ (<span style=\"color: #00d7ff; text-decoration-color: #00d7ff\">None</span>, <span style=\"color: #00af00; text-decoration-color: #00af00\">11</span>)                  │             <span style=\"color: #00af00; text-decoration-color: #00af00\">132</span> │\n├──────────────────────────────────────┼─────────────────────────────┼─────────────────┤\n│ dense_7 (<span style=\"color: #0087ff; text-decoration-color: #0087ff\">Dense</span>)                      │ (<span style=\"color: #00d7ff; text-decoration-color: #00d7ff\">None</span>, <span style=\"color: #00af00; text-decoration-color: #00af00\">1</span>)                   │              <span style=\"color: #00af00; text-decoration-color: #00af00\">12</span> │\n└──────────────────────────────────────┴─────────────────────────────┴─────────────────┘\n</pre>\n"
          },
          "metadata": {}
        },
        {
          "output_type": "display_data",
          "data": {
            "text/plain": "\u001b[1m Total params: \u001b[0m\u001b[38;5;34m276\u001b[0m (1.08 KB)\n",
            "text/html": "<pre style=\"white-space:pre;overflow-x:auto;line-height:normal;font-family:Menlo,'DejaVu Sans Mono',consolas,'Courier New',monospace\"><span style=\"font-weight: bold\"> Total params: </span><span style=\"color: #00af00; text-decoration-color: #00af00\">276</span> (1.08 KB)\n</pre>\n"
          },
          "metadata": {}
        },
        {
          "output_type": "display_data",
          "data": {
            "text/plain": "\u001b[1m Trainable params: \u001b[0m\u001b[38;5;34m276\u001b[0m (1.08 KB)\n",
            "text/html": "<pre style=\"white-space:pre;overflow-x:auto;line-height:normal;font-family:Menlo,'DejaVu Sans Mono',consolas,'Courier New',monospace\"><span style=\"font-weight: bold\"> Trainable params: </span><span style=\"color: #00af00; text-decoration-color: #00af00\">276</span> (1.08 KB)\n</pre>\n"
          },
          "metadata": {}
        },
        {
          "output_type": "display_data",
          "data": {
            "text/plain": "\u001b[1m Non-trainable params: \u001b[0m\u001b[38;5;34m0\u001b[0m (0.00 B)\n",
            "text/html": "<pre style=\"white-space:pre;overflow-x:auto;line-height:normal;font-family:Menlo,'DejaVu Sans Mono',consolas,'Courier New',monospace\"><span style=\"font-weight: bold\"> Non-trainable params: </span><span style=\"color: #00af00; text-decoration-color: #00af00\">0</span> (0.00 B)\n</pre>\n"
          },
          "metadata": {}
        }
      ],
      "execution_count": null
    },
    {
      "cell_type": "code",
      "source": [
        "model.compile(loss= 'binary_crossentropy', optimizer='Adam', metrics=['accuracy'])"
      ],
      "metadata": {
        "trusted": true,
        "execution": {
          "iopub.status.busy": "2025-03-29T13:05:50.928497Z",
          "iopub.execute_input": "2025-03-29T13:05:50.928881Z",
          "iopub.status.idle": "2025-03-29T13:05:50.938507Z",
          "shell.execute_reply.started": "2025-03-29T13:05:50.928833Z",
          "shell.execute_reply": "2025-03-29T13:05:50.93745Z"
        },
        "id": "qly7Qh92-5ln"
      },
      "outputs": [],
      "execution_count": null
    },
    {
      "cell_type": "code",
      "source": [
        "history = model.fit(X_train_scaled, y_train, epochs= 100, validation_split= 0.2)"
      ],
      "metadata": {
        "trusted": true,
        "execution": {
          "iopub.status.busy": "2025-03-29T13:05:54.465261Z",
          "iopub.execute_input": "2025-03-29T13:05:54.465627Z",
          "iopub.status.idle": "2025-03-29T13:06:32.867775Z",
          "shell.execute_reply.started": "2025-03-29T13:05:54.465601Z",
          "shell.execute_reply": "2025-03-29T13:06:32.866461Z"
        },
        "id": "ZXtVfUpU-5lo",
        "outputId": "f3e84b20-1387-4e71-8438-2fabc5f21b5b"
      },
      "outputs": [
        {
          "name": "stdout",
          "text": "Epoch 1/100\n\u001b[1m200/200\u001b[0m \u001b[32m━━━━━━━━━━━━━━━━━━━━\u001b[0m\u001b[37m\u001b[0m \u001b[1m2s\u001b[0m 2ms/step - accuracy: 0.5898 - loss: 0.6569 - val_accuracy: 0.8000 - val_loss: 0.4765\nEpoch 2/100\n\u001b[1m200/200\u001b[0m \u001b[32m━━━━━━━━━━━━━━━━━━━━\u001b[0m\u001b[37m\u001b[0m \u001b[1m0s\u001b[0m 2ms/step - accuracy: 0.7941 - loss: 0.4697 - val_accuracy: 0.8119 - val_loss: 0.4400\nEpoch 3/100\n\u001b[1m200/200\u001b[0m \u001b[32m━━━━━━━━━━━━━━━━━━━━\u001b[0m\u001b[37m\u001b[0m \u001b[1m0s\u001b[0m 2ms/step - accuracy: 0.7984 - loss: 0.4489 - val_accuracy: 0.8231 - val_loss: 0.4199\nEpoch 4/100\n\u001b[1m200/200\u001b[0m \u001b[32m━━━━━━━━━━━━━━━━━━━━\u001b[0m\u001b[37m\u001b[0m \u001b[1m0s\u001b[0m 2ms/step - accuracy: 0.8205 - loss: 0.4165 - val_accuracy: 0.8363 - val_loss: 0.4028\nEpoch 5/100\n\u001b[1m200/200\u001b[0m \u001b[32m━━━━━━━━━━━━━━━━━━━━\u001b[0m\u001b[37m\u001b[0m \u001b[1m0s\u001b[0m 2ms/step - accuracy: 0.8308 - loss: 0.4002 - val_accuracy: 0.8444 - val_loss: 0.3874\nEpoch 6/100\n\u001b[1m200/200\u001b[0m \u001b[32m━━━━━━━━━━━━━━━━━━━━\u001b[0m\u001b[37m\u001b[0m \u001b[1m0s\u001b[0m 2ms/step - accuracy: 0.8400 - loss: 0.3861 - val_accuracy: 0.8475 - val_loss: 0.3752\nEpoch 7/100\n\u001b[1m200/200\u001b[0m \u001b[32m━━━━━━━━━━━━━━━━━━━━\u001b[0m\u001b[37m\u001b[0m \u001b[1m0s\u001b[0m 2ms/step - accuracy: 0.8548 - loss: 0.3660 - val_accuracy: 0.8494 - val_loss: 0.3679\nEpoch 8/100\n\u001b[1m200/200\u001b[0m \u001b[32m━━━━━━━━━━━━━━━━━━━━\u001b[0m\u001b[37m\u001b[0m \u001b[1m0s\u001b[0m 2ms/step - accuracy: 0.8490 - loss: 0.3673 - val_accuracy: 0.8525 - val_loss: 0.3625\nEpoch 9/100\n\u001b[1m200/200\u001b[0m \u001b[32m━━━━━━━━━━━━━━━━━━━━\u001b[0m\u001b[37m\u001b[0m \u001b[1m0s\u001b[0m 2ms/step - accuracy: 0.8488 - loss: 0.3676 - val_accuracy: 0.8512 - val_loss: 0.3594\nEpoch 10/100\n\u001b[1m200/200\u001b[0m \u001b[32m━━━━━━━━━━━━━━━━━━━━\u001b[0m\u001b[37m\u001b[0m \u001b[1m0s\u001b[0m 2ms/step - accuracy: 0.8491 - loss: 0.3600 - val_accuracy: 0.8531 - val_loss: 0.3571\nEpoch 11/100\n\u001b[1m200/200\u001b[0m \u001b[32m━━━━━━━━━━━━━━━━━━━━\u001b[0m\u001b[37m\u001b[0m \u001b[1m0s\u001b[0m 2ms/step - accuracy: 0.8524 - loss: 0.3605 - val_accuracy: 0.8550 - val_loss: 0.3555\nEpoch 12/100\n\u001b[1m200/200\u001b[0m \u001b[32m━━━━━━━━━━━━━━━━━━━━\u001b[0m\u001b[37m\u001b[0m \u001b[1m0s\u001b[0m 2ms/step - accuracy: 0.8567 - loss: 0.3522 - val_accuracy: 0.8544 - val_loss: 0.3556\nEpoch 13/100\n\u001b[1m200/200\u001b[0m \u001b[32m━━━━━━━━━━━━━━━━━━━━\u001b[0m\u001b[37m\u001b[0m \u001b[1m0s\u001b[0m 2ms/step - accuracy: 0.8628 - loss: 0.3446 - val_accuracy: 0.8531 - val_loss: 0.3543\nEpoch 14/100\n\u001b[1m200/200\u001b[0m \u001b[32m━━━━━━━━━━━━━━━━━━━━\u001b[0m\u001b[37m\u001b[0m \u001b[1m0s\u001b[0m 2ms/step - accuracy: 0.8568 - loss: 0.3524 - val_accuracy: 0.8506 - val_loss: 0.3531\nEpoch 15/100\n\u001b[1m200/200\u001b[0m \u001b[32m━━━━━━━━━━━━━━━━━━━━\u001b[0m\u001b[37m\u001b[0m \u001b[1m0s\u001b[0m 2ms/step - accuracy: 0.8631 - loss: 0.3423 - val_accuracy: 0.8537 - val_loss: 0.3533\nEpoch 16/100\n\u001b[1m200/200\u001b[0m \u001b[32m━━━━━━━━━━━━━━━━━━━━\u001b[0m\u001b[37m\u001b[0m \u001b[1m0s\u001b[0m 2ms/step - accuracy: 0.8626 - loss: 0.3492 - val_accuracy: 0.8519 - val_loss: 0.3529\nEpoch 17/100\n\u001b[1m200/200\u001b[0m \u001b[32m━━━━━━━━━━━━━━━━━━━━\u001b[0m\u001b[37m\u001b[0m \u001b[1m0s\u001b[0m 2ms/step - accuracy: 0.8602 - loss: 0.3513 - val_accuracy: 0.8569 - val_loss: 0.3515\nEpoch 18/100\n\u001b[1m200/200\u001b[0m \u001b[32m━━━━━━━━━━━━━━━━━━━━\u001b[0m\u001b[37m\u001b[0m \u001b[1m0s\u001b[0m 2ms/step - accuracy: 0.8604 - loss: 0.3476 - val_accuracy: 0.8569 - val_loss: 0.3509\nEpoch 19/100\n\u001b[1m200/200\u001b[0m \u001b[32m━━━━━━━━━━━━━━━━━━━━\u001b[0m\u001b[37m\u001b[0m \u001b[1m0s\u001b[0m 2ms/step - accuracy: 0.8531 - loss: 0.3580 - val_accuracy: 0.8550 - val_loss: 0.3509\nEpoch 20/100\n\u001b[1m200/200\u001b[0m \u001b[32m━━━━━━━━━━━━━━━━━━━━\u001b[0m\u001b[37m\u001b[0m \u001b[1m0s\u001b[0m 2ms/step - accuracy: 0.8655 - loss: 0.3343 - val_accuracy: 0.8550 - val_loss: 0.3512\nEpoch 21/100\n\u001b[1m200/200\u001b[0m \u001b[32m━━━━━━━━━━━━━━━━━━━━\u001b[0m\u001b[37m\u001b[0m \u001b[1m0s\u001b[0m 2ms/step - accuracy: 0.8663 - loss: 0.3354 - val_accuracy: 0.8519 - val_loss: 0.3512\nEpoch 22/100\n\u001b[1m200/200\u001b[0m \u001b[32m━━━━━━━━━━━━━━━━━━━━\u001b[0m\u001b[37m\u001b[0m \u001b[1m0s\u001b[0m 2ms/step - accuracy: 0.8582 - loss: 0.3505 - val_accuracy: 0.8544 - val_loss: 0.3535\nEpoch 23/100\n\u001b[1m200/200\u001b[0m \u001b[32m━━━━━━━━━━━━━━━━━━━━\u001b[0m\u001b[37m\u001b[0m \u001b[1m0s\u001b[0m 2ms/step - accuracy: 0.8620 - loss: 0.3385 - val_accuracy: 0.8550 - val_loss: 0.3500\nEpoch 24/100\n\u001b[1m200/200\u001b[0m \u001b[32m━━━━━━━━━━━━━━━━━━━━\u001b[0m\u001b[37m\u001b[0m \u001b[1m0s\u001b[0m 2ms/step - accuracy: 0.8632 - loss: 0.3398 - val_accuracy: 0.8575 - val_loss: 0.3493\nEpoch 25/100\n\u001b[1m200/200\u001b[0m \u001b[32m━━━━━━━━━━━━━━━━━━━━\u001b[0m\u001b[37m\u001b[0m \u001b[1m0s\u001b[0m 2ms/step - accuracy: 0.8642 - loss: 0.3297 - val_accuracy: 0.8531 - val_loss: 0.3494\nEpoch 26/100\n\u001b[1m200/200\u001b[0m \u001b[32m━━━━━━━━━━━━━━━━━━━━\u001b[0m\u001b[37m\u001b[0m \u001b[1m0s\u001b[0m 2ms/step - accuracy: 0.8691 - loss: 0.3327 - val_accuracy: 0.8556 - val_loss: 0.3490\nEpoch 27/100\n\u001b[1m200/200\u001b[0m \u001b[32m━━━━━━━━━━━━━━━━━━━━\u001b[0m\u001b[37m\u001b[0m \u001b[1m0s\u001b[0m 2ms/step - accuracy: 0.8719 - loss: 0.3269 - val_accuracy: 0.8562 - val_loss: 0.3480\nEpoch 28/100\n\u001b[1m200/200\u001b[0m \u001b[32m━━━━━━━━━━━━━━━━━━━━\u001b[0m\u001b[37m\u001b[0m \u001b[1m0s\u001b[0m 2ms/step - accuracy: 0.8743 - loss: 0.3223 - val_accuracy: 0.8519 - val_loss: 0.3489\nEpoch 29/100\n\u001b[1m200/200\u001b[0m \u001b[32m━━━━━━━━━━━━━━━━━━━━\u001b[0m\u001b[37m\u001b[0m \u001b[1m0s\u001b[0m 2ms/step - accuracy: 0.8711 - loss: 0.3272 - val_accuracy: 0.8531 - val_loss: 0.3491\nEpoch 30/100\n\u001b[1m200/200\u001b[0m \u001b[32m━━━━━━━━━━━━━━━━━━━━\u001b[0m\u001b[37m\u001b[0m \u001b[1m0s\u001b[0m 2ms/step - accuracy: 0.8609 - loss: 0.3459 - val_accuracy: 0.8537 - val_loss: 0.3474\nEpoch 31/100\n\u001b[1m200/200\u001b[0m \u001b[32m━━━━━━━━━━━━━━━━━━━━\u001b[0m\u001b[37m\u001b[0m \u001b[1m0s\u001b[0m 2ms/step - accuracy: 0.8633 - loss: 0.3420 - val_accuracy: 0.8525 - val_loss: 0.3479\nEpoch 32/100\n\u001b[1m200/200\u001b[0m \u001b[32m━━━━━━━━━━━━━━━━━━━━\u001b[0m\u001b[37m\u001b[0m \u001b[1m0s\u001b[0m 2ms/step - accuracy: 0.8573 - loss: 0.3464 - val_accuracy: 0.8537 - val_loss: 0.3486\nEpoch 33/100\n\u001b[1m200/200\u001b[0m \u001b[32m━━━━━━━━━━━━━━━━━━━━\u001b[0m\u001b[37m\u001b[0m \u001b[1m0s\u001b[0m 2ms/step - accuracy: 0.8676 - loss: 0.3255 - val_accuracy: 0.8525 - val_loss: 0.3464\nEpoch 34/100\n\u001b[1m200/200\u001b[0m \u001b[32m━━━━━━━━━━━━━━━━━━━━\u001b[0m\u001b[37m\u001b[0m \u001b[1m0s\u001b[0m 2ms/step - accuracy: 0.8645 - loss: 0.3364 - val_accuracy: 0.8531 - val_loss: 0.3475\nEpoch 35/100\n\u001b[1m200/200\u001b[0m \u001b[32m━━━━━━━━━━━━━━━━━━━━\u001b[0m\u001b[37m\u001b[0m \u001b[1m0s\u001b[0m 2ms/step - accuracy: 0.8657 - loss: 0.3358 - val_accuracy: 0.8537 - val_loss: 0.3457\nEpoch 36/100\n\u001b[1m200/200\u001b[0m \u001b[32m━━━━━━━━━━━━━━━━━━━━\u001b[0m\u001b[37m\u001b[0m \u001b[1m0s\u001b[0m 2ms/step - accuracy: 0.8653 - loss: 0.3305 - val_accuracy: 0.8525 - val_loss: 0.3471\nEpoch 37/100\n\u001b[1m200/200\u001b[0m \u001b[32m━━━━━━━━━━━━━━━━━━━━\u001b[0m\u001b[37m\u001b[0m \u001b[1m0s\u001b[0m 2ms/step - accuracy: 0.8700 - loss: 0.3332 - val_accuracy: 0.8544 - val_loss: 0.3461\nEpoch 38/100\n\u001b[1m200/200\u001b[0m \u001b[32m━━━━━━━━━━━━━━━━━━━━\u001b[0m\u001b[37m\u001b[0m \u001b[1m0s\u001b[0m 2ms/step - accuracy: 0.8701 - loss: 0.3316 - val_accuracy: 0.8512 - val_loss: 0.3477\nEpoch 39/100\n\u001b[1m200/200\u001b[0m \u001b[32m━━━━━━━━━━━━━━━━━━━━\u001b[0m\u001b[37m\u001b[0m \u001b[1m0s\u001b[0m 2ms/step - accuracy: 0.8640 - loss: 0.3253 - val_accuracy: 0.8487 - val_loss: 0.3469\nEpoch 40/100\n\u001b[1m200/200\u001b[0m \u001b[32m━━━━━━━━━━━━━━━━━━━━\u001b[0m\u001b[37m\u001b[0m \u001b[1m0s\u001b[0m 2ms/step - accuracy: 0.8631 - loss: 0.3332 - val_accuracy: 0.8487 - val_loss: 0.3466\nEpoch 41/100\n\u001b[1m200/200\u001b[0m \u001b[32m━━━━━━━━━━━━━━━━━━━━\u001b[0m\u001b[37m\u001b[0m \u001b[1m0s\u001b[0m 2ms/step - accuracy: 0.8673 - loss: 0.3231 - val_accuracy: 0.8519 - val_loss: 0.3471\nEpoch 42/100\n\u001b[1m200/200\u001b[0m \u001b[32m━━━━━━━━━━━━━━━━━━━━\u001b[0m\u001b[37m\u001b[0m \u001b[1m0s\u001b[0m 2ms/step - accuracy: 0.8643 - loss: 0.3296 - val_accuracy: 0.8494 - val_loss: 0.3469\nEpoch 43/100\n\u001b[1m200/200\u001b[0m \u001b[32m━━━━━━━━━━━━━━━━━━━━\u001b[0m\u001b[37m\u001b[0m \u001b[1m0s\u001b[0m 2ms/step - accuracy: 0.8649 - loss: 0.3259 - val_accuracy: 0.8512 - val_loss: 0.3463\nEpoch 44/100\n\u001b[1m200/200\u001b[0m \u001b[32m━━━━━━━━━━━━━━━━━━━━\u001b[0m\u001b[37m\u001b[0m \u001b[1m0s\u001b[0m 2ms/step - accuracy: 0.8707 - loss: 0.3245 - val_accuracy: 0.8512 - val_loss: 0.3458\nEpoch 45/100\n\u001b[1m200/200\u001b[0m \u001b[32m━━━━━━━━━━━━━━━━━━━━\u001b[0m\u001b[37m\u001b[0m \u001b[1m0s\u001b[0m 2ms/step - accuracy: 0.8643 - loss: 0.3226 - val_accuracy: 0.8494 - val_loss: 0.3472\nEpoch 46/100\n\u001b[1m200/200\u001b[0m \u001b[32m━━━━━━━━━━━━━━━━━━━━\u001b[0m\u001b[37m\u001b[0m \u001b[1m0s\u001b[0m 2ms/step - accuracy: 0.8719 - loss: 0.3167 - val_accuracy: 0.8481 - val_loss: 0.3462\nEpoch 47/100\n\u001b[1m200/200\u001b[0m \u001b[32m━━━━━━━━━━━━━━━━━━━━\u001b[0m\u001b[37m\u001b[0m \u001b[1m0s\u001b[0m 2ms/step - accuracy: 0.8641 - loss: 0.3323 - val_accuracy: 0.8487 - val_loss: 0.3475\nEpoch 48/100\n\u001b[1m200/200\u001b[0m \u001b[32m━━━━━━━━━━━━━━━━━━━━\u001b[0m\u001b[37m\u001b[0m \u001b[1m0s\u001b[0m 2ms/step - accuracy: 0.8578 - loss: 0.3311 - val_accuracy: 0.8519 - val_loss: 0.3461\nEpoch 49/100\n\u001b[1m200/200\u001b[0m \u001b[32m━━━━━━━━━━━━━━━━━━━━\u001b[0m\u001b[37m\u001b[0m \u001b[1m0s\u001b[0m 2ms/step - accuracy: 0.8670 - loss: 0.3294 - val_accuracy: 0.8481 - val_loss: 0.3479\nEpoch 50/100\n\u001b[1m200/200\u001b[0m \u001b[32m━━━━━━━━━━━━━━━━━━━━\u001b[0m\u001b[37m\u001b[0m \u001b[1m0s\u001b[0m 2ms/step - accuracy: 0.8651 - loss: 0.3319 - val_accuracy: 0.8494 - val_loss: 0.3477\nEpoch 51/100\n\u001b[1m200/200\u001b[0m \u001b[32m━━━━━━━━━━━━━━━━━━━━\u001b[0m\u001b[37m\u001b[0m \u001b[1m0s\u001b[0m 2ms/step - accuracy: 0.8729 - loss: 0.3154 - val_accuracy: 0.8500 - val_loss: 0.3465\nEpoch 52/100\n\u001b[1m200/200\u001b[0m \u001b[32m━━━━━━━━━━━━━━━━━━━━\u001b[0m\u001b[37m\u001b[0m \u001b[1m0s\u001b[0m 2ms/step - accuracy: 0.8653 - loss: 0.3251 - val_accuracy: 0.8506 - val_loss: 0.3467\nEpoch 53/100\n\u001b[1m200/200\u001b[0m \u001b[32m━━━━━━━━━━━━━━━━━━━━\u001b[0m\u001b[37m\u001b[0m \u001b[1m0s\u001b[0m 2ms/step - accuracy: 0.8613 - loss: 0.3367 - val_accuracy: 0.8500 - val_loss: 0.3468\nEpoch 54/100\n\u001b[1m200/200\u001b[0m \u001b[32m━━━━━━━━━━━━━━━━━━━━\u001b[0m\u001b[37m\u001b[0m \u001b[1m0s\u001b[0m 2ms/step - accuracy: 0.8636 - loss: 0.3238 - val_accuracy: 0.8475 - val_loss: 0.3478\nEpoch 55/100\n\u001b[1m200/200\u001b[0m \u001b[32m━━━━━━━━━━━━━━━━━━━━\u001b[0m\u001b[37m\u001b[0m \u001b[1m0s\u001b[0m 2ms/step - accuracy: 0.8643 - loss: 0.3287 - val_accuracy: 0.8487 - val_loss: 0.3476\nEpoch 56/100\n\u001b[1m200/200\u001b[0m \u001b[32m━━━━━━━━━━━━━━━━━━━━\u001b[0m\u001b[37m\u001b[0m \u001b[1m0s\u001b[0m 2ms/step - accuracy: 0.8706 - loss: 0.3163 - val_accuracy: 0.8469 - val_loss: 0.3480\nEpoch 57/100\n\u001b[1m200/200\u001b[0m \u001b[32m━━━━━━━━━━━━━━━━━━━━\u001b[0m\u001b[37m\u001b[0m \u001b[1m0s\u001b[0m 2ms/step - accuracy: 0.8632 - loss: 0.3330 - val_accuracy: 0.8481 - val_loss: 0.3488\nEpoch 58/100\n\u001b[1m200/200\u001b[0m \u001b[32m━━━━━━━━━━━━━━━━━━━━\u001b[0m\u001b[37m\u001b[0m \u001b[1m0s\u001b[0m 2ms/step - accuracy: 0.8707 - loss: 0.3187 - val_accuracy: 0.8512 - val_loss: 0.3474\nEpoch 59/100\n\u001b[1m200/200\u001b[0m \u001b[32m━━━━━━━━━━━━━━━━━━━━\u001b[0m\u001b[37m\u001b[0m \u001b[1m0s\u001b[0m 2ms/step - accuracy: 0.8673 - loss: 0.3176 - val_accuracy: 0.8469 - val_loss: 0.3483\nEpoch 60/100\n\u001b[1m200/200\u001b[0m \u001b[32m━━━━━━━━━━━━━━━━━━━━\u001b[0m\u001b[37m\u001b[0m \u001b[1m0s\u001b[0m 2ms/step - accuracy: 0.8686 - loss: 0.3213 - val_accuracy: 0.8494 - val_loss: 0.3472\nEpoch 61/100\n\u001b[1m200/200\u001b[0m \u001b[32m━━━━━━━━━━━━━━━━━━━━\u001b[0m\u001b[37m\u001b[0m \u001b[1m0s\u001b[0m 2ms/step - accuracy: 0.8657 - loss: 0.3242 - val_accuracy: 0.8519 - val_loss: 0.3476\nEpoch 62/100\n\u001b[1m200/200\u001b[0m \u001b[32m━━━━━━━━━━━━━━━━━━━━\u001b[0m\u001b[37m\u001b[0m \u001b[1m0s\u001b[0m 2ms/step - accuracy: 0.8688 - loss: 0.3227 - val_accuracy: 0.8475 - val_loss: 0.3499\nEpoch 63/100\n\u001b[1m200/200\u001b[0m \u001b[32m━━━━━━━━━━━━━━━━━━━━\u001b[0m\u001b[37m\u001b[0m \u001b[1m0s\u001b[0m 2ms/step - accuracy: 0.8654 - loss: 0.3268 - val_accuracy: 0.8506 - val_loss: 0.3528\nEpoch 64/100\n\u001b[1m200/200\u001b[0m \u001b[32m━━━━━━━━━━━━━━━━━━━━\u001b[0m\u001b[37m\u001b[0m \u001b[1m0s\u001b[0m 2ms/step - accuracy: 0.8665 - loss: 0.3150 - val_accuracy: 0.8475 - val_loss: 0.3487\nEpoch 65/100\n\u001b[1m200/200\u001b[0m \u001b[32m━━━━━━━━━━━━━━━━━━━━\u001b[0m\u001b[37m\u001b[0m \u001b[1m0s\u001b[0m 2ms/step - accuracy: 0.8675 - loss: 0.3222 - val_accuracy: 0.8456 - val_loss: 0.3494\nEpoch 66/100\n\u001b[1m200/200\u001b[0m \u001b[32m━━━━━━━━━━━━━━━━━━━━\u001b[0m\u001b[37m\u001b[0m \u001b[1m0s\u001b[0m 2ms/step - accuracy: 0.8638 - loss: 0.3204 - val_accuracy: 0.8431 - val_loss: 0.3503\nEpoch 67/100\n\u001b[1m200/200\u001b[0m \u001b[32m━━━━━━━━━━━━━━━━━━━━\u001b[0m\u001b[37m\u001b[0m \u001b[1m0s\u001b[0m 2ms/step - accuracy: 0.8716 - loss: 0.3111 - val_accuracy: 0.8431 - val_loss: 0.3494\nEpoch 68/100\n\u001b[1m200/200\u001b[0m \u001b[32m━━━━━━━━━━━━━━━━━━━━\u001b[0m\u001b[37m\u001b[0m \u001b[1m0s\u001b[0m 2ms/step - accuracy: 0.8698 - loss: 0.3191 - val_accuracy: 0.8462 - val_loss: 0.3493\nEpoch 69/100\n\u001b[1m200/200\u001b[0m \u001b[32m━━━━━━━━━━━━━━━━━━━━\u001b[0m\u001b[37m\u001b[0m \u001b[1m0s\u001b[0m 2ms/step - accuracy: 0.8679 - loss: 0.3263 - val_accuracy: 0.8475 - val_loss: 0.3501\nEpoch 70/100\n\u001b[1m200/200\u001b[0m \u001b[32m━━━━━━━━━━━━━━━━━━━━\u001b[0m\u001b[37m\u001b[0m \u001b[1m0s\u001b[0m 2ms/step - accuracy: 0.8674 - loss: 0.3261 - val_accuracy: 0.8456 - val_loss: 0.3492\nEpoch 71/100\n\u001b[1m200/200\u001b[0m \u001b[32m━━━━━━━━━━━━━━━━━━━━\u001b[0m\u001b[37m\u001b[0m \u001b[1m0s\u001b[0m 2ms/step - accuracy: 0.8681 - loss: 0.3175 - val_accuracy: 0.8494 - val_loss: 0.3510\nEpoch 72/100\n\u001b[1m200/200\u001b[0m \u001b[32m━━━━━━━━━━━━━━━━━━━━\u001b[0m\u001b[37m\u001b[0m \u001b[1m0s\u001b[0m 2ms/step - accuracy: 0.8685 - loss: 0.3229 - val_accuracy: 0.8462 - val_loss: 0.3505\nEpoch 73/100\n\u001b[1m200/200\u001b[0m \u001b[32m━━━━━━━━━━━━━━━━━━━━\u001b[0m\u001b[37m\u001b[0m \u001b[1m0s\u001b[0m 2ms/step - accuracy: 0.8735 - loss: 0.3113 - val_accuracy: 0.8462 - val_loss: 0.3520\nEpoch 74/100\n\u001b[1m200/200\u001b[0m \u001b[32m━━━━━━━━━━━━━━━━━━━━\u001b[0m\u001b[37m\u001b[0m \u001b[1m0s\u001b[0m 2ms/step - accuracy: 0.8613 - loss: 0.3309 - val_accuracy: 0.8469 - val_loss: 0.3494\nEpoch 75/100\n\u001b[1m200/200\u001b[0m \u001b[32m━━━━━━━━━━━━━━━━━━━━\u001b[0m\u001b[37m\u001b[0m \u001b[1m0s\u001b[0m 2ms/step - accuracy: 0.8699 - loss: 0.3126 - val_accuracy: 0.8469 - val_loss: 0.3494\nEpoch 76/100\n\u001b[1m200/200\u001b[0m \u001b[32m━━━━━━━━━━━━━━━━━━━━\u001b[0m\u001b[37m\u001b[0m \u001b[1m0s\u001b[0m 2ms/step - accuracy: 0.8587 - loss: 0.3330 - val_accuracy: 0.8469 - val_loss: 0.3513\nEpoch 77/100\n\u001b[1m200/200\u001b[0m \u001b[32m━━━━━━━━━━━━━━━━━━━━\u001b[0m\u001b[37m\u001b[0m \u001b[1m0s\u001b[0m 2ms/step - accuracy: 0.8671 - loss: 0.3202 - val_accuracy: 0.8487 - val_loss: 0.3501\nEpoch 78/100\n\u001b[1m200/200\u001b[0m \u001b[32m━━━━━━━━━━━━━━━━━━━━\u001b[0m\u001b[37m\u001b[0m \u001b[1m0s\u001b[0m 2ms/step - accuracy: 0.8630 - loss: 0.3237 - val_accuracy: 0.8469 - val_loss: 0.3525\nEpoch 79/100\n\u001b[1m200/200\u001b[0m \u001b[32m━━━━━━━━━━━━━━━━━━━━\u001b[0m\u001b[37m\u001b[0m \u001b[1m0s\u001b[0m 2ms/step - accuracy: 0.8629 - loss: 0.3287 - val_accuracy: 0.8462 - val_loss: 0.3501\nEpoch 80/100\n\u001b[1m200/200\u001b[0m \u001b[32m━━━━━━━━━━━━━━━━━━━━\u001b[0m\u001b[37m\u001b[0m \u001b[1m0s\u001b[0m 2ms/step - accuracy: 0.8693 - loss: 0.3127 - val_accuracy: 0.8475 - val_loss: 0.3496\nEpoch 81/100\n\u001b[1m200/200\u001b[0m \u001b[32m━━━━━━━━━━━━━━━━━━━━\u001b[0m\u001b[37m\u001b[0m \u001b[1m0s\u001b[0m 2ms/step - accuracy: 0.8687 - loss: 0.3204 - val_accuracy: 0.8481 - val_loss: 0.3493\nEpoch 82/100\n\u001b[1m200/200\u001b[0m \u001b[32m━━━━━━━━━━━━━━━━━━━━\u001b[0m\u001b[37m\u001b[0m \u001b[1m0s\u001b[0m 2ms/step - accuracy: 0.8667 - loss: 0.3144 - val_accuracy: 0.8469 - val_loss: 0.3497\nEpoch 83/100\n\u001b[1m200/200\u001b[0m \u001b[32m━━━━━━━━━━━━━━━━━━━━\u001b[0m\u001b[37m\u001b[0m \u001b[1m0s\u001b[0m 2ms/step - accuracy: 0.8655 - loss: 0.3276 - val_accuracy: 0.8481 - val_loss: 0.3503\nEpoch 84/100\n\u001b[1m200/200\u001b[0m \u001b[32m━━━━━━━━━━━━━━━━━━━━\u001b[0m\u001b[37m\u001b[0m \u001b[1m0s\u001b[0m 2ms/step - accuracy: 0.8675 - loss: 0.3202 - val_accuracy: 0.8487 - val_loss: 0.3497\nEpoch 85/100\n\u001b[1m200/200\u001b[0m \u001b[32m━━━━━━━━━━━━━━━━━━━━\u001b[0m\u001b[37m\u001b[0m \u001b[1m0s\u001b[0m 2ms/step - accuracy: 0.8587 - loss: 0.3296 - val_accuracy: 0.8487 - val_loss: 0.3519\nEpoch 86/100\n\u001b[1m200/200\u001b[0m \u001b[32m━━━━━━━━━━━━━━━━━━━━\u001b[0m\u001b[37m\u001b[0m \u001b[1m0s\u001b[0m 2ms/step - accuracy: 0.8735 - loss: 0.3135 - val_accuracy: 0.8487 - val_loss: 0.3501\nEpoch 87/100\n\u001b[1m200/200\u001b[0m \u001b[32m━━━━━━━━━━━━━━━━━━━━\u001b[0m\u001b[37m\u001b[0m \u001b[1m0s\u001b[0m 2ms/step - accuracy: 0.8671 - loss: 0.3179 - val_accuracy: 0.8487 - val_loss: 0.3509\nEpoch 88/100\n\u001b[1m200/200\u001b[0m \u001b[32m━━━━━━━━━━━━━━━━━━━━\u001b[0m\u001b[37m\u001b[0m \u001b[1m0s\u001b[0m 2ms/step - accuracy: 0.8642 - loss: 0.3196 - val_accuracy: 0.8456 - val_loss: 0.3507\nEpoch 89/100\n\u001b[1m200/200\u001b[0m \u001b[32m━━━━━━━━━━━━━━━━━━━━\u001b[0m\u001b[37m\u001b[0m \u001b[1m0s\u001b[0m 2ms/step - accuracy: 0.8657 - loss: 0.3230 - val_accuracy: 0.8462 - val_loss: 0.3518\nEpoch 90/100\n\u001b[1m200/200\u001b[0m \u001b[32m━━━━━━━━━━━━━━━━━━━━\u001b[0m\u001b[37m\u001b[0m \u001b[1m0s\u001b[0m 2ms/step - accuracy: 0.8695 - loss: 0.3198 - val_accuracy: 0.8475 - val_loss: 0.3506\nEpoch 91/100\n\u001b[1m200/200\u001b[0m \u001b[32m━━━━━━━━━━━━━━━━━━━━\u001b[0m\u001b[37m\u001b[0m \u001b[1m0s\u001b[0m 2ms/step - accuracy: 0.8674 - loss: 0.3144 - val_accuracy: 0.8462 - val_loss: 0.3503\nEpoch 92/100\n\u001b[1m200/200\u001b[0m \u001b[32m━━━━━━━━━━━━━━━━━━━━\u001b[0m\u001b[37m\u001b[0m \u001b[1m0s\u001b[0m 2ms/step - accuracy: 0.8715 - loss: 0.3162 - val_accuracy: 0.8481 - val_loss: 0.3504\nEpoch 93/100\n\u001b[1m200/200\u001b[0m \u001b[32m━━━━━━━━━━━━━━━━━━━━\u001b[0m\u001b[37m\u001b[0m \u001b[1m0s\u001b[0m 2ms/step - accuracy: 0.8661 - loss: 0.3190 - val_accuracy: 0.8450 - val_loss: 0.3515\nEpoch 94/100\n\u001b[1m200/200\u001b[0m \u001b[32m━━━━━━━━━━━━━━━━━━━━\u001b[0m\u001b[37m\u001b[0m \u001b[1m0s\u001b[0m 2ms/step - accuracy: 0.8722 - loss: 0.3105 - val_accuracy: 0.8494 - val_loss: 0.3515\nEpoch 95/100\n\u001b[1m200/200\u001b[0m \u001b[32m━━━━━━━━━━━━━━━━━━━━\u001b[0m\u001b[37m\u001b[0m \u001b[1m0s\u001b[0m 2ms/step - accuracy: 0.8676 - loss: 0.3173 - val_accuracy: 0.8450 - val_loss: 0.3531\nEpoch 96/100\n\u001b[1m200/200\u001b[0m \u001b[32m━━━━━━━━━━━━━━━━━━━━\u001b[0m\u001b[37m\u001b[0m \u001b[1m0s\u001b[0m 2ms/step - accuracy: 0.8625 - loss: 0.3179 - val_accuracy: 0.8481 - val_loss: 0.3513\nEpoch 97/100\n\u001b[1m200/200\u001b[0m \u001b[32m━━━━━━━━━━━━━━━━━━━━\u001b[0m\u001b[37m\u001b[0m \u001b[1m0s\u001b[0m 2ms/step - accuracy: 0.8671 - loss: 0.3186 - val_accuracy: 0.8462 - val_loss: 0.3511\nEpoch 98/100\n\u001b[1m200/200\u001b[0m \u001b[32m━━━━━━━━━━━━━━━━━━━━\u001b[0m\u001b[37m\u001b[0m \u001b[1m0s\u001b[0m 2ms/step - accuracy: 0.8589 - loss: 0.3295 - val_accuracy: 0.8450 - val_loss: 0.3515\nEpoch 99/100\n\u001b[1m200/200\u001b[0m \u001b[32m━━━━━━━━━━━━━━━━━━━━\u001b[0m\u001b[37m\u001b[0m \u001b[1m0s\u001b[0m 2ms/step - accuracy: 0.8705 - loss: 0.3142 - val_accuracy: 0.8444 - val_loss: 0.3515\nEpoch 100/100\n\u001b[1m200/200\u001b[0m \u001b[32m━━━━━━━━━━━━━━━━━━━━\u001b[0m\u001b[37m\u001b[0m \u001b[1m0s\u001b[0m 2ms/step - accuracy: 0.8667 - loss: 0.3229 - val_accuracy: 0.8487 - val_loss: 0.3504\n",
          "output_type": "stream"
        }
      ],
      "execution_count": null
    },
    {
      "cell_type": "code",
      "source": [
        "model.layers[1].get_weights()"
      ],
      "metadata": {
        "trusted": true,
        "execution": {
          "iopub.status.busy": "2025-03-29T13:06:49.358632Z",
          "iopub.execute_input": "2025-03-29T13:06:49.359035Z",
          "iopub.status.idle": "2025-03-29T13:06:49.368836Z",
          "shell.execute_reply.started": "2025-03-29T13:06:49.359004Z",
          "shell.execute_reply": "2025-03-29T13:06:49.367778Z"
        },
        "id": "g0JjfJRy-5lo",
        "outputId": "0457559d-0a7e-4fbd-a180-9ac3d07495d8"
      },
      "outputs": [
        {
          "execution_count": 39,
          "output_type": "execute_result",
          "data": {
            "text/plain": "[array([[ 2.37745568e-01,  2.64741600e-01, -9.95863318e-01,\n         -1.32222489e-01, -3.94686580e-01, -5.58502853e-01,\n         -1.71914801e-01, -2.27494091e-01,  6.81770295e-02,\n         -3.06007773e-01,  1.50957294e-02],\n        [ 1.79252952e-01,  7.68051803e-01, -7.07437992e-02,\n          6.18170910e-02,  5.06653905e-01,  4.19811666e-01,\n         -2.30813280e-01, -6.67264462e-01,  2.96349019e-01,\n         -3.20048511e-01,  3.03287446e-01],\n        [ 3.19162190e-01,  7.86586404e-02, -5.84997416e-01,\n          2.86418349e-01, -5.14769197e-01,  4.12210941e-01,\n         -9.94754061e-02, -2.63239592e-01, -8.93473551e-02,\n          4.52486515e-01, -3.14281851e-01],\n        [-3.56779665e-01, -2.42439657e-01,  4.03571397e-01,\n          1.60965398e-01, -7.39253581e-01,  9.06929746e-02,\n          6.42946243e-01, -8.52674916e-02,  1.35909483e-01,\n          7.65886128e-01, -2.86456823e-01],\n        [-5.19056559e-01,  2.14240223e-01,  1.45383224e-01,\n         -1.74061671e-01,  6.85039461e-01, -6.50025666e-01,\n          3.21681872e-02, -1.28140882e-01,  7.36906826e-01,\n         -4.82963353e-01,  1.24905266e-01],\n        [-6.38319599e-03, -2.45479763e-01,  3.43981326e-01,\n          5.05287230e-01, -4.30752873e-01,  1.18886635e-01,\n          4.45939332e-01,  3.71020049e-01, -3.02746087e-01,\n         -2.55413234e-01, -6.19587637e-02],\n        [ 3.50721031e-01,  6.70746386e-01, -2.62400389e-01,\n          6.74096793e-02,  2.29218557e-01, -5.73281825e-01,\n         -3.28614742e-01, -9.30756554e-02,  6.68582439e-01,\n         -4.43262681e-02, -2.48102292e-01],\n        [-1.03586173e+00,  1.06676303e-01,  4.29229885e-02,\n         -1.69941828e-01, -5.65088093e-02,  5.19764781e-01,\n          5.18591404e-01, -6.05027139e-01,  4.04133558e-01,\n          4.68259305e-02, -2.39926085e-01],\n        [-2.40694427e+00,  2.41076961e-01,  8.23116481e-01,\n         -2.50975823e+00, -1.09958258e-02,  1.33452579e-01,\n          6.18457079e-01,  6.73322797e-01, -1.44322708e-01,\n          9.70264435e-01,  2.13665470e-01],\n        [ 4.52344641e-02,  7.06526458e-01, -1.89605564e-01,\n          1.33134395e-01, -2.30021149e-01,  3.67667787e-02,\n          6.38265386e-02, -6.67922548e-04, -3.22912335e-02,\n         -1.24753162e-01,  8.39101553e-01],\n        [ 1.56307578e-01,  5.65844297e-01, -1.11873910e-01,\n          6.15929952e-03,  6.92581415e-01, -2.36035272e-01,\n         -5.41063428e-01,  6.55818343e-01,  1.83280017e-02,\n         -8.82154331e-02,  1.92550004e-01]], dtype=float32),\n array([ 0.39935195,  0.2182836 , -0.58989584,  0.32464883, -0.5112855 ,\n         0.4430738 , -0.26495874,  0.08039043,  0.23987037, -0.15226693,\n         0.41890335], dtype=float32)]"
          },
          "metadata": {}
        }
      ],
      "execution_count": null
    },
    {
      "cell_type": "code",
      "source": [
        "y_log = model.predict(X_test_scaled)"
      ],
      "metadata": {
        "trusted": true,
        "execution": {
          "iopub.status.busy": "2025-03-29T13:06:50.316179Z",
          "iopub.execute_input": "2025-03-29T13:06:50.316506Z",
          "iopub.status.idle": "2025-03-29T13:06:50.571231Z",
          "shell.execute_reply.started": "2025-03-29T13:06:50.316482Z",
          "shell.execute_reply": "2025-03-29T13:06:50.570006Z"
        },
        "id": "NzBch8nS-5lp",
        "outputId": "02d0c5fe-c2d2-4ed2-c289-f3da4a0f2079"
      },
      "outputs": [
        {
          "name": "stdout",
          "text": "\u001b[1m63/63\u001b[0m \u001b[32m━━━━━━━━━━━━━━━━━━━━\u001b[0m\u001b[37m\u001b[0m \u001b[1m0s\u001b[0m 2ms/step\n",
          "output_type": "stream"
        }
      ],
      "execution_count": null
    },
    {
      "cell_type": "code",
      "source": [
        "y_pred = np.where(y_log > 0.5, 1, 0)"
      ],
      "metadata": {
        "trusted": true,
        "execution": {
          "iopub.status.busy": "2025-03-29T13:06:54.028894Z",
          "iopub.execute_input": "2025-03-29T13:06:54.029268Z",
          "iopub.status.idle": "2025-03-29T13:06:54.034136Z",
          "shell.execute_reply.started": "2025-03-29T13:06:54.02924Z",
          "shell.execute_reply": "2025-03-29T13:06:54.032978Z"
        },
        "id": "MH1N8NF_-5lp"
      },
      "outputs": [],
      "execution_count": null
    },
    {
      "cell_type": "code",
      "source": [
        "from sklearn.metrics import accuracy_score\n",
        "\n",
        "accuracy_score(y_test, y_pred)"
      ],
      "metadata": {
        "trusted": true,
        "execution": {
          "iopub.status.busy": "2025-03-29T13:06:55.374304Z",
          "iopub.execute_input": "2025-03-29T13:06:55.374682Z",
          "iopub.status.idle": "2025-03-29T13:06:55.383014Z",
          "shell.execute_reply.started": "2025-03-29T13:06:55.374654Z",
          "shell.execute_reply": "2025-03-29T13:06:55.382001Z"
        },
        "id": "C5IuKUpy-5lq",
        "outputId": "5391a40b-cfac-4497-c733-1ac8cd6da503"
      },
      "outputs": [
        {
          "execution_count": 42,
          "output_type": "execute_result",
          "data": {
            "text/plain": "0.8655"
          },
          "metadata": {}
        }
      ],
      "execution_count": null
    },
    {
      "cell_type": "code",
      "source": [
        "import matplotlib.pyplot as plt"
      ],
      "metadata": {
        "trusted": true,
        "execution": {
          "iopub.status.busy": "2025-03-29T13:06:56.63461Z",
          "iopub.execute_input": "2025-03-29T13:06:56.634962Z",
          "iopub.status.idle": "2025-03-29T13:06:56.639619Z",
          "shell.execute_reply.started": "2025-03-29T13:06:56.634935Z",
          "shell.execute_reply": "2025-03-29T13:06:56.638181Z"
        },
        "id": "tkO5syTg-5lq"
      },
      "outputs": [],
      "execution_count": null
    },
    {
      "cell_type": "code",
      "source": [
        "history.history"
      ],
      "metadata": {
        "trusted": true,
        "execution": {
          "iopub.status.busy": "2025-03-29T13:07:09.994289Z",
          "iopub.execute_input": "2025-03-29T13:07:09.994745Z",
          "iopub.status.idle": "2025-03-29T13:07:10.005765Z",
          "shell.execute_reply.started": "2025-03-29T13:07:09.994712Z",
          "shell.execute_reply": "2025-03-29T13:07:10.004124Z"
        },
        "id": "32yY15N5-5lr",
        "outputId": "c12f73ba-39c8-4eda-f468-42895d2e3f7e"
      },
      "outputs": [
        {
          "execution_count": 44,
          "output_type": "execute_result",
          "data": {
            "text/plain": "{'accuracy': [0.7242187261581421,\n  0.8045312762260437,\n  0.8123437762260437,\n  0.8253124952316284,\n  0.8356249928474426,\n  0.8451562523841858,\n  0.8498437404632568,\n  0.8506249785423279,\n  0.8518750071525574,\n  0.8542187213897705,\n  0.8559374809265137,\n  0.8564062714576721,\n  0.8582812547683716,\n  0.8592187762260437,\n  0.8600000143051147,\n  0.8590624928474426,\n  0.8609374761581421,\n  0.8615624904632568,\n  0.8615624904632568,\n  0.8621875047683716,\n  0.8615624904632568,\n  0.8621875047683716,\n  0.864062488079071,\n  0.8629687428474426,\n  0.862500011920929,\n  0.864062488079071,\n  0.8628125190734863,\n  0.8637499809265137,\n  0.8645312786102295,\n  0.8653125166893005,\n  0.8631250262260437,\n  0.8629687428474426,\n  0.8637499809265137,\n  0.8648437261581421,\n  0.8637499809265137,\n  0.8634374737739563,\n  0.8654687404632568,\n  0.8657812476158142,\n  0.8650000095367432,\n  0.8651562333106995,\n  0.8659374713897705,\n  0.8653125166893005,\n  0.8628125190734863,\n  0.8653125166893005,\n  0.8637499809265137,\n  0.8642187714576721,\n  0.8653125166893005,\n  0.8648437261581421,\n  0.8660937547683716,\n  0.8656250238418579,\n  0.8665624856948853,\n  0.8645312786102295,\n  0.8660937547683716,\n  0.8648437261581421,\n  0.8657812476158142,\n  0.8635937571525574,\n  0.866406261920929,\n  0.864062488079071,\n  0.8648437261581421,\n  0.8659374713897705,\n  0.864062488079071,\n  0.8667187690734863,\n  0.8665624856948853,\n  0.8648437261581421,\n  0.8670312762260437,\n  0.8648437261581421,\n  0.866406261920929,\n  0.866406261920929,\n  0.8662499785423279,\n  0.8668749928474426,\n  0.8660937547683716,\n  0.866406261920929,\n  0.8667187690734863,\n  0.8662499785423279,\n  0.8656250238418579,\n  0.8657812476158142,\n  0.8651562333106995,\n  0.8662499785423279,\n  0.8676562309265137,\n  0.8660937547683716,\n  0.8668749928474426,\n  0.8668749928474426,\n  0.8660937547683716,\n  0.8668749928474426,\n  0.8657812476158142,\n  0.8675000071525574,\n  0.8689062595367432,\n  0.8682812452316284,\n  0.8671875,\n  0.8676562309265137,\n  0.8660937547683716,\n  0.8693749904632568,\n  0.8662499785423279,\n  0.866406261920929,\n  0.8667187690734863,\n  0.8667187690734863,\n  0.8673437237739563,\n  0.8673437237739563,\n  0.8665624856948853,\n  0.8665624856948853],\n 'loss': [0.5678594708442688,\n  0.4531167149543762,\n  0.42868369817733765,\n  0.4121301770210266,\n  0.395661860704422,\n  0.3820502460002899,\n  0.3720780611038208,\n  0.365522563457489,\n  0.3610199987888336,\n  0.35753318667411804,\n  0.35470253229141235,\n  0.3527619540691376,\n  0.35041138529777527,\n  0.34883081912994385,\n  0.347306489944458,\n  0.3467697203159332,\n  0.3449750542640686,\n  0.34488627314567566,\n  0.3433847725391388,\n  0.34252211451530457,\n  0.3413970470428467,\n  0.3403880298137665,\n  0.34009623527526855,\n  0.33955299854278564,\n  0.3389350473880768,\n  0.3383136987686157,\n  0.3376787304878235,\n  0.33694884181022644,\n  0.3364833891391754,\n  0.3359599709510803,\n  0.3350846767425537,\n  0.3345549404621124,\n  0.3346209228038788,\n  0.33387383818626404,\n  0.33360055088996887,\n  0.33255279064178467,\n  0.33244121074676514,\n  0.3319425880908966,\n  0.33160343766212463,\n  0.33120009303092957,\n  0.3304493725299835,\n  0.33040615916252136,\n  0.33006083965301514,\n  0.32963278889656067,\n  0.3293164372444153,\n  0.32904955744743347,\n  0.32866328954696655,\n  0.3286222517490387,\n  0.3285985291004181,\n  0.3280281126499176,\n  0.3273073434829712,\n  0.3276214897632599,\n  0.3270486891269684,\n  0.32697758078575134,\n  0.32654616236686707,\n  0.32633835077285767,\n  0.3261815309524536,\n  0.3259599208831787,\n  0.3257777690887451,\n  0.32484447956085205,\n  0.3246631622314453,\n  0.3245735168457031,\n  0.3241725265979767,\n  0.3241844177246094,\n  0.3234178423881531,\n  0.32357117533683777,\n  0.3238072097301483,\n  0.3233669698238373,\n  0.3230060935020447,\n  0.32296591997146606,\n  0.3228504955768585,\n  0.3227440118789673,\n  0.32141655683517456,\n  0.3219803273677826,\n  0.321829617023468,\n  0.3222538232803345,\n  0.3216403126716614,\n  0.32171425223350525,\n  0.3205658793449402,\n  0.3210212290287018,\n  0.3207535445690155,\n  0.32088062167167664,\n  0.3201388418674469,\n  0.3202016353607178,\n  0.3199006915092468,\n  0.3201950490474701,\n  0.3199322819709778,\n  0.3193453252315521,\n  0.31961485743522644,\n  0.31967467069625854,\n  0.3193163275718689,\n  0.32046425342559814,\n  0.31945741176605225,\n  0.31943970918655396,\n  0.318761944770813,\n  0.3195783495903015,\n  0.3184896409511566,\n  0.31842026114463806,\n  0.3188020884990692,\n  0.3185666799545288],\n 'val_accuracy': [0.800000011920929,\n  0.8118749856948853,\n  0.8231250047683716,\n  0.8362500071525574,\n  0.8443750143051147,\n  0.8475000262260437,\n  0.8493750095367432,\n  0.8525000214576721,\n  0.8512499928474426,\n  0.8531249761581421,\n  0.8550000190734863,\n  0.8543750047683716,\n  0.8531249761581421,\n  0.8506249785423279,\n  0.8537499904632568,\n  0.8518750071525574,\n  0.8568750023841858,\n  0.8568750023841858,\n  0.8550000190734863,\n  0.8550000190734863,\n  0.8518750071525574,\n  0.8543750047683716,\n  0.8550000190734863,\n  0.8575000166893005,\n  0.8531249761581421,\n  0.8556249737739563,\n  0.856249988079071,\n  0.8518750071525574,\n  0.8531249761581421,\n  0.8537499904632568,\n  0.8525000214576721,\n  0.8537499904632568,\n  0.8525000214576721,\n  0.8531249761581421,\n  0.8537499904632568,\n  0.8525000214576721,\n  0.8543750047683716,\n  0.8512499928474426,\n  0.8487499952316284,\n  0.8487499952316284,\n  0.8518750071525574,\n  0.8493750095367432,\n  0.8512499928474426,\n  0.8512499928474426,\n  0.8493750095367432,\n  0.8481249809265137,\n  0.8487499952316284,\n  0.8518750071525574,\n  0.8481249809265137,\n  0.8493750095367432,\n  0.8500000238418579,\n  0.8506249785423279,\n  0.8500000238418579,\n  0.8475000262260437,\n  0.8487499952316284,\n  0.846875011920929,\n  0.8481249809265137,\n  0.8512499928474426,\n  0.846875011920929,\n  0.8493750095367432,\n  0.8518750071525574,\n  0.8475000262260437,\n  0.8506249785423279,\n  0.8475000262260437,\n  0.8456249833106995,\n  0.8431249856948853,\n  0.8431249856948853,\n  0.8462499976158142,\n  0.8475000262260437,\n  0.8456249833106995,\n  0.8493750095367432,\n  0.8462499976158142,\n  0.8462499976158142,\n  0.846875011920929,\n  0.846875011920929,\n  0.846875011920929,\n  0.8487499952316284,\n  0.846875011920929,\n  0.8462499976158142,\n  0.8475000262260437,\n  0.8481249809265137,\n  0.846875011920929,\n  0.8481249809265137,\n  0.8487499952316284,\n  0.8487499952316284,\n  0.8487499952316284,\n  0.8487499952316284,\n  0.8456249833106995,\n  0.8462499976158142,\n  0.8475000262260437,\n  0.8462499976158142,\n  0.8481249809265137,\n  0.8450000286102295,\n  0.8493750095367432,\n  0.8450000286102295,\n  0.8481249809265137,\n  0.8462499976158142,\n  0.8450000286102295,\n  0.8443750143051147,\n  0.8487499952316284],\n 'val_loss': [0.4764965772628784,\n  0.44003212451934814,\n  0.41990479826927185,\n  0.40276679396629333,\n  0.38742586970329285,\n  0.37524905800819397,\n  0.36791619658470154,\n  0.3624834418296814,\n  0.3594488203525543,\n  0.3571358919143677,\n  0.3555119037628174,\n  0.3556334674358368,\n  0.3543412387371063,\n  0.3531322479248047,\n  0.3532848656177521,\n  0.352891206741333,\n  0.35148346424102783,\n  0.35092058777809143,\n  0.35089465975761414,\n  0.3511563241481781,\n  0.351247638463974,\n  0.3535478711128235,\n  0.3500116765499115,\n  0.34931236505508423,\n  0.34944039583206177,\n  0.3489900231361389,\n  0.348021924495697,\n  0.34886494278907776,\n  0.34914442896842957,\n  0.34740379452705383,\n  0.34791699051856995,\n  0.34863924980163574,\n  0.34636813402175903,\n  0.3475020229816437,\n  0.3457099497318268,\n  0.34705889225006104,\n  0.3460571765899658,\n  0.3476976156234741,\n  0.3469197154045105,\n  0.3465878367424011,\n  0.347066193819046,\n  0.34690460562705994,\n  0.3462749421596527,\n  0.3457889258861542,\n  0.3472115993499756,\n  0.3461829423904419,\n  0.34750935435295105,\n  0.34611618518829346,\n  0.34791186451911926,\n  0.3476797342300415,\n  0.34651607275009155,\n  0.3466760516166687,\n  0.34680432081222534,\n  0.34784436225891113,\n  0.3475791811943054,\n  0.3480042517185211,\n  0.3487769663333893,\n  0.34736308455467224,\n  0.34831133484840393,\n  0.3472237288951874,\n  0.34764960408210754,\n  0.3498736321926117,\n  0.3528384864330292,\n  0.3486914038658142,\n  0.3494258224964142,\n  0.3502770960330963,\n  0.3493536710739136,\n  0.3493165075778961,\n  0.3500770926475525,\n  0.34919166564941406,\n  0.35096728801727295,\n  0.35046711564064026,\n  0.3519902527332306,\n  0.3493938446044922,\n  0.34942078590393066,\n  0.3513408899307251,\n  0.350106418132782,\n  0.3525313138961792,\n  0.3500971496105194,\n  0.34957748651504517,\n  0.3493121862411499,\n  0.34974801540374756,\n  0.3503493368625641,\n  0.34971413016319275,\n  0.3518596291542053,\n  0.35006028413772583,\n  0.35092875361442566,\n  0.3506799340248108,\n  0.35182979702949524,\n  0.35062262415885925,\n  0.35025927424430847,\n  0.35038453340530396,\n  0.35150352120399475,\n  0.3515004813671112,\n  0.3530791997909546,\n  0.35133352875709534,\n  0.3510808050632477,\n  0.35153183341026306,\n  0.35149359703063965,\n  0.35037481784820557]}"
          },
          "metadata": {}
        }
      ],
      "execution_count": null
    },
    {
      "cell_type": "code",
      "source": [
        "plt.plot(history.history['loss'])\n",
        "plt.plot(history.history['val_loss'])"
      ],
      "metadata": {
        "trusted": true,
        "execution": {
          "iopub.status.busy": "2025-03-29T13:08:39.262423Z",
          "iopub.execute_input": "2025-03-29T13:08:39.262792Z",
          "iopub.status.idle": "2025-03-29T13:08:39.472689Z",
          "shell.execute_reply.started": "2025-03-29T13:08:39.262764Z",
          "shell.execute_reply": "2025-03-29T13:08:39.47131Z"
        },
        "id": "L2Bsv5Ap-5lr",
        "outputId": "27c00697-d720-47e3-968c-02b5a7a0d4f8"
      },
      "outputs": [
        {
          "execution_count": 47,
          "output_type": "execute_result",
          "data": {
            "text/plain": "[<matplotlib.lines.Line2D at 0x7aa2ceb72710>]"
          },
          "metadata": {}
        },
        {
          "output_type": "display_data",
          "data": {
            "text/plain": "<Figure size 640x480 with 1 Axes>",
            "image/png": "[encoded data removed]"
          },
          "metadata": {}
        }
      ],
      "execution_count": null
    },
    {
      "cell_type": "code",
      "source": [
        "plt.plot(history.history['accuracy'])\n",
        "plt.plot(history.history['val_accuracy'])"
      ],
      "metadata": {
        "trusted": true,
        "execution": {
          "iopub.status.busy": "2025-03-29T13:09:15.252563Z",
          "iopub.execute_input": "2025-03-29T13:09:15.252951Z",
          "iopub.status.idle": "2025-03-29T13:09:15.666683Z",
          "shell.execute_reply.started": "2025-03-29T13:09:15.252922Z",
          "shell.execute_reply": "2025-03-29T13:09:15.66566Z"
        },
        "id": "YHqh5zGj-5ls",
        "outputId": "45d85ef5-64b4-42b1-d2e8-7f36ea6f3fcf"
      },
      "outputs": [
        {
          "execution_count": 48,
          "output_type": "execute_result",
          "data": {
            "text/plain": "[<matplotlib.lines.Line2D at 0x7aa3427de470>]"
          },
          "metadata": {}
        },
        {
          "output_type": "display_data",
          "data": {
            "text/plain": "<Figure size 640x480 with 1 Axes>",
            "image/png": "[encoded data removed]"
          },
          "metadata": {}
        }
      ],
      "execution_count": null
    },
    {
      "cell_type": "code",
      "source": [],
      "metadata": {
        "trusted": true,
        "id": "Wo8v4oWi-5ls"
      },
      "outputs": [],
      "execution_count": null
    }
  ]
}